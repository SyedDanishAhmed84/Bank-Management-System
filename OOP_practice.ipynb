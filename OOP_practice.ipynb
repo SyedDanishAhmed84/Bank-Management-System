{
  "nbformat": 4,
  "nbformat_minor": 0,
  "metadata": {
    "colab": {
      "provenance": [],
      "authorship_tag": "ABX9TyM16c3s0lRk2GHtwCBoO00X",
      "include_colab_link": true
    },
    "kernelspec": {
      "name": "python3",
      "display_name": "Python 3"
    },
    "language_info": {
      "name": "python"
    }
  },
  "cells": [
    {
      "cell_type": "markdown",
      "metadata": {
        "id": "view-in-github",
        "colab_type": "text"
      },
      "source": [
        "<a href=\"https://colab.research.google.com/github/SyedDanishAhmed84/Bank-Management-System/blob/main/OOP_practice.ipynb\" target=\"_parent\"><img src=\"https://colab.research.google.com/assets/colab-badge.svg\" alt=\"Open In Colab\"/></a>"
      ]
    },
    {
      "cell_type": "code",
      "execution_count": null,
      "metadata": {
        "colab": {
          "base_uri": "https://localhost:8080/"
        },
        "id": "7JKh8OSRh4kt",
        "outputId": "059a49b4-969e-4d00-b518-3c6252ad3a98"
      },
      "outputs": [
        {
          "output_type": "stream",
          "name": "stdout",
          "text": [
            "Bark\n",
            "Meow\n",
            "some sound\n"
          ]
        }
      ],
      "source": [
        "class Animal:\n",
        "  def sound(self):\n",
        "    return \"some sound\"\n",
        "\n",
        "class Dog(Animal):\n",
        "  def sound(self):\n",
        "    return \"Bark\"\n",
        "\n",
        "class Cat(Animal):\n",
        "  def sound(self):\n",
        "    return \"Meow\"\n",
        "\n",
        "animal=Animal()\n",
        "dog=Dog()\n",
        "cat=Cat()\n",
        "\n",
        "print(dog.sound())\n",
        "print(cat.sound())\n",
        "print(animal.sound())\n",
        "\n"
      ]
    },
    {
      "cell_type": "code",
      "source": [
        "class Employee:\n",
        "  def __init__(self,name,age):\n",
        "    self.name=name\n",
        "    self.age=age\n",
        "\n",
        "  def display_details(self):\n",
        "    print(f\"Name : {self.name}\")\n",
        "    print(f\"Age : {self.age}\")\n",
        "\n",
        "emp=Employee(\"Danish\",19)\n",
        "print(\"Employee details\")\n",
        "emp.display_details()"
      ],
      "metadata": {
        "colab": {
          "base_uri": "https://localhost:8080/"
        },
        "id": "isnvk4T1eBp6",
        "outputId": "9e32fd2c-9dcc-4aa9-dd09-a5befd937cf2"
      },
      "execution_count": null,
      "outputs": [
        {
          "output_type": "stream",
          "name": "stdout",
          "text": [
            "Employee details\n",
            "Name : Danish\n",
            "Age : 19\n"
          ]
        }
      ]
    },
    {
      "cell_type": "code",
      "source": [
        "class Manager(Employee):\n",
        "  def __init__(self,name,age,department):\n",
        "    self.name=name\n",
        "    self.age=age\n",
        "    self.department=department\n",
        "\n",
        "  def display_details(self):\n",
        "    print(f\"Name : {self.name}\")\n",
        "    print(f\"Age : {self.age}\")\n",
        "    print(f\"Department : {self.department}\")\n",
        "\n",
        "man=Manager(\"Danish\",19,\"Engineering\")\n",
        "print(\"Details\")\n",
        "man.display_details()"
      ],
      "metadata": {
        "colab": {
          "base_uri": "https://localhost:8080/"
        },
        "id": "Y1qngiLnfEwD",
        "outputId": "79372af7-14a8-4fbe-d5d5-c9c87cfdf3c7"
      },
      "execution_count": null,
      "outputs": [
        {
          "output_type": "stream",
          "name": "stdout",
          "text": [
            "Details\n",
            "Name : Danish\n",
            "Age : 19\n",
            "Department : Engineering\n"
          ]
        }
      ]
    }
  ]
}